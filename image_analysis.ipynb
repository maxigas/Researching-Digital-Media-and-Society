{
 "cells": [
  {
   "cell_type": "markdown",
   "id": "110f3b95-fe3f-445b-9e6c-c0ae6a17af76",
   "metadata": {},
   "source": [
    "# Image analysis"
   ]
  },
  {
   "cell_type": "markdown",
   "id": "81f6871a-f99f-4640-9148-3fc25c413cdc",
   "metadata": {},
   "source": [
    "## Image stacking (from Rogers 2021, p.6)"
   ]
  },
  {
   "cell_type": "code",
   "execution_count": null,
   "id": "b1001118-4d21-4c7a-ab7c-2f94c6fdab91",
   "metadata": {},
   "outputs": [],
   "source": [
    "%pip install pandas requests duckduckgo_search # PIL is already installed here!"
   ]
  },
  {
   "cell_type": "code",
   "execution_count": null,
   "id": "89d387a6-01c4-4295-8e73-54ff8a0531b8",
   "metadata": {},
   "outputs": [],
   "source": [
    "import os\n",
    "import pandas as pd \n",
    "import requests\n",
    "from PIL import Image # pillows python library for image editing \n",
    "from duckduckgo_search import DDGS"
   ]
  },
  {
   "cell_type": "markdown",
   "id": "71934f1c-fdc6-4c85-9953-b7de0777bb52",
   "metadata": {},
   "source": [
    "For this exercise we will play around API's a bit. API stands for Application Programming Interface. It is like a user interface, but for programs. It lets you interact with a software service in a programmatic way. It is how software talks to other software to get information. This is usually done in a JSON format. APIs are often used for data collection by digital methods researchers. For example, both 4CAT and Communalytic relies on APIs for many of their data collection features.\n",
    "\n",
    "In this notebook, we use DuckDuckGo's API to search the web for images programmatically. DuckDuckGo is a search engine like Google Search, but focused on public values. Luckily for us, DuckDuckGo is free to use and someone wrote a well-maintained Python package to interact with the DuckDuckGo API. For the documentation see https://pypi.org/project/duckduckgo-search/"
   ]
  },
  {
   "cell_type": "code",
   "execution_count": null,
   "id": "68f17fe3-abd8-40b7-8c90-fca10f1bdf0c",
   "metadata": {},
   "outputs": [],
   "source": [
    "# First, we need to run the query. This is similar to how the search interface\n",
    "# looks in a web browser. You can fine-tune the parameters that are passed \n",
    "# to the function to see what changes!\n",
    "results = DDGS().images(\n",
    "    keywords=\"butterfly\",\n",
    "    region=\"wt-wt\",\n",
    "    safesearch=\"off\",\n",
    "    size=None,\n",
    "    color=\"Monochrome\",\n",
    "    type_image=None,\n",
    "    layout=None,\n",
    "    license_image=None,\n",
    "    max_results=10,\n",
    ")"
   ]
  },
  {
   "cell_type": "code",
   "execution_count": null,
   "id": "0745b632-0b56-48ac-b81a-3292e983c3fd",
   "metadata": {},
   "outputs": [],
   "source": [
    "# Next, we need to actually download the images into the current directory.\n",
    "\n",
    "# Let's make a folder for the outputs!\n",
    "images = \"downloaded_images\"\n",
    "\n",
    "if not os.path.exists(images):\n",
    "    os.makedirs(images)\n",
    "\n",
    "# Loop through the resulting images\n",
    "for idx, result in enumerate(results):\n",
    "    image_url = result['image'] # Get the URL of the images\n",
    "    try:\n",
    "        response = requests.get(image_url) # Download the image from the web address stored in image_url \n",
    "        response.raise_for_status()  # Check if the request was successful\n",
    "        \n",
    "        # Define a filename \n",
    "        filename = os.path.join(images, f\"image_{idx}.jpg\")\n",
    "        with open(filename, \"wb\") as f:\n",
    "            f.write(response.content)\n",
    "        print(f\"Downloaded {filename}\")\n",
    "    except Exception as e:\n",
    "        print(f\"Failed to download image {idx}: {e}\")"
   ]
  },
  {
   "cell_type": "markdown",
   "id": "a13d584c-756d-4011-b2bc-19b31cfe739e",
   "metadata": {},
   "source": [
    "### Analysis\n",
    "\n",
    "Now we can analyse the images. We will try out two different methods for quantitative image analysis. \n",
    "\n",
    "First, we will try to stack the images with some opacity to see what the results look like. "
   ]
  },
  {
   "cell_type": "code",
   "execution_count": null,
   "id": "a6128808-f01d-45d7-ab80-42cbe75ff6ce",
   "metadata": {},
   "outputs": [],
   "source": [
    "# Get the list of image files sorted by name. Here, we can also load a specific category of images (only JPEGS, for example).\n",
    "image_files = sorted([f for f in os.listdir(images) if f.endswith('.jpg')])\n",
    "\n",
    "# We will do this via a loop. Loops need a starting place, so we first transform one image. Then, we go through the whole list.\n",
    "base_path = os.path.join(images, image_files[0]) # Get the path of the first image\n",
    "base_image = Image.open(base_path).convert(\"RGBA\") # Get the first image \n",
    "alpha_mask = Image.new(\"L\", base_image.size, int(0.2 * 255)) # Create a mask to set the opacity, now it is 0.2 that is 20%\n",
    "# You can adjust the parameter 0.2 above to see if other values result in a better looking final image.\n",
    "base_image.putalpha(alpha_mask) # Apply the mask to the first image\n",
    "\n",
    "width, height = base_image.size # Get the size of the first image: we will use this to resize the rest to this size\n",
    "\n",
    "# Create an accumulator starting with the base image\n",
    "composite = base_image.copy()\n",
    "\n",
    "# Loop over the images. Note that these are the same steps as above!\n",
    "for image_file in image_files[1:]:\n",
    "    image_path = os.path.join(images, image_file) # Get the path\n",
    "    overlay = Image.open(image_path).convert(\"RGBA\") # Get the image \n",
    "    # Resize the overlay to match the base image if needed \n",
    "    if overlay.size != (width, height):\n",
    "        overlay = overlay.resize((width, height))\n",
    "    \n",
    "    overlay.putalpha(alpha_mask) # Apply the mask\n",
    "    \n",
    "    # Overlay onto the current composite image\n",
    "    composite = Image.alpha_composite(composite, overlay)\n",
    "\n",
    "# Save and show the final composite image\n",
    "composite.save(\"stacked_images.png\")\n",
    "display(composite)\n"
   ]
  },
  {
   "cell_type": "markdown",
   "id": "97a862b8-8c5f-4fd1-a25a-55179073ea98",
   "metadata": {},
   "source": [
    "Next, we can wrap all this in a function to run an experiment. Here, we will study the difference in image results between Russia and the US for the seach term \"Pride\"."
   ]
  },
  {
   "cell_type": "code",
   "execution_count": null,
   "id": "b0ef1849-de49-473e-a457-e5760f84be4d",
   "metadata": {
    "scrolled": true
   },
   "outputs": [],
   "source": [
    "def create_composite_image(keywords, region=\"wt-wt\", safesearch=\"moderate\", size=None,\n",
    "                           color=None, type_image=None, layout=None,\n",
    "                           license_image=None, max_results=10, download_dir=\"downloaded_images\",\n",
    "                           composite_filename=\"stacked_images.png\", opacity=0.2):\n",
    "\n",
    "    # Run the image search\n",
    "    results = DDGS().images(\n",
    "        keywords=keywords,\n",
    "        region=region,\n",
    "        safesearch=safesearch,\n",
    "        size=size,\n",
    "        color=color,\n",
    "        type_image=type_image,\n",
    "        layout=layout,\n",
    "        license_image=license_image,\n",
    "        max_results=max_results,\n",
    "    )\n",
    "    \n",
    "    # Create the download directory if it doesn't exist\n",
    "    if not os.path.exists(download_dir):\n",
    "        os.makedirs(download_dir)\n",
    "    \n",
    "    # Download the images\n",
    "    for idx, result in enumerate(results):\n",
    "        image_url = result['image']  # Get the URL for the image\n",
    "        try:\n",
    "            response = requests.get(image_url)\n",
    "            response.raise_for_status()  # Ensure we got a valid response\n",
    "            \n",
    "            # Define the filename\n",
    "            filename = os.path.join(download_dir, f\"image_{idx}.jpg\")\n",
    "            with open(filename, \"wb\") as f:\n",
    "                f.write(response.content)\n",
    "            print(f\"Downloaded {filename}\")\n",
    "        except Exception as e:\n",
    "            print(f\"Failed to download image {idx}: {e}\")\n",
    "    \n",
    "    # Get the list of downloaded image files (sorted by name)\n",
    "    image_files = sorted([f for f in os.listdir(download_dir) if f.endswith('.jpg')])\n",
    "    if not image_files:\n",
    "        raise ValueError(\"No images were downloaded.\")\n",
    "    \n",
    "    # Open the first image as the base and convert it to RGBA\n",
    "    base_path = os.path.join(download_dir, image_files[0])\n",
    "    base_image = Image.open(base_path).convert(\"RGBA\")\n",
    "    width, height = base_image.size\n",
    "    \n",
    "    # Create an alpha mask based on the provided opacity\n",
    "    alpha_mask = Image.new(\"L\", base_image.size, int(opacity * 255))\n",
    "    base_image.putalpha(alpha_mask)\n",
    "    \n",
    "    # Initialize the composite with the base image\n",
    "    composite = base_image.copy()\n",
    "    \n",
    "    # Loop over the remaining images and composite them one by one\n",
    "    for image_file in image_files[1:]:\n",
    "        image_path = os.path.join(download_dir, image_file)\n",
    "        overlay = Image.open(image_path).convert(\"RGBA\")\n",
    "        \n",
    "        # Resize overlay to match the base image dimensions if needed\n",
    "        if overlay.size != (width, height):\n",
    "            overlay = overlay.resize((width, height))\n",
    "        \n",
    "        # Apply the same opacity mask to the overlay\n",
    "        overlay.putalpha(Image.new(\"L\", overlay.size, int(opacity * 255)))\n",
    "        \n",
    "        # Composite the overlay image onto the current composite image\n",
    "        composite = Image.alpha_composite(composite, overlay)\n",
    "    \n",
    "    # Save the composite image and display it\n",
    "    composite.save(composite_filename)\n",
    "    display(composite)\n",
    "    \n",
    "    return composite"
   ]
  },
  {
   "cell_type": "code",
   "execution_count": null,
   "id": "6bf21ab6-b95f-4332-9e1f-da6807ddf70d",
   "metadata": {},
   "outputs": [],
   "source": [
    "composite_img_ru = create_composite_image(\"pride\", region=\"ru-ru\", color=None, download_dir=\"downloaded_images_ru\", composite_filename=\"stacked_images_RU.png\", max_results=20, opacity=0.2)\n",
    "composite_img_us = create_composite_image(\"pride\", region=\"us-en\", color=None, download_dir=\"downloaded_images_us\", composite_filename=\"stacked_images_US.png\", max_results=20, opacity=0.2)\n"
   ]
  },
  {
   "cell_type": "markdown",
   "id": "adb6861a-2ea6-4b5c-8ed6-9fababda35fa",
   "metadata": {},
   "source": [
    "Now, we can compare the results. A few images are the same, but we receive them in different order. This results in different pictures, as the order in which we stack the pictures matters for visibility."
   ]
  },
  {
   "cell_type": "markdown",
   "id": "ea3b6f6d-c710-4874-af9a-4084943e3d73",
   "metadata": {},
   "source": [
    "In this notebook, we introduced one way to make metapictures for visual analysis. We used the pillow library (PIL) for image manipulation. A next step could be clustering the images according to their various properties. Alternatively, techniques in this notebook can be repurposed to use your own images from your dataset. How to go about that?"
   ]
  },
  {
   "cell_type": "code",
   "execution_count": null,
   "id": "209666ca-2b98-4d0d-9775-be62c0b506ba",
   "metadata": {},
   "outputs": [],
   "source": [
    "# This is a revised version of the function above, adapted to be used on your own images.\n",
    "# Note: it will only work if you have a folder \"local_images\" in your file browser to the left,\n",
    "# and that folder has a number of JPEG images that you want to stack!\n",
    "def create_composite_image_from_a_local_folder(download_dir=\"local_images\",\n",
    "                           composite_filename=\"stacked_local_images.png\", opacity=0.2):\n",
    "\n",
    "    # Get the list of images in the local folder (sorted by name)\n",
    "    image_files = sorted([f for f in os.listdir(download_dir) if f.endswith('.jpg')])\n",
    "    if not image_files:\n",
    "        raise ValueError(\"No images found in the local folder\", download_dir)\n",
    "    \n",
    "    # Open the first image as the base and convert it to RGBA\n",
    "    base_path = os.path.join(download_dir, image_files[0])\n",
    "    base_image = Image.open(base_path).convert(\"RGBA\")\n",
    "    width, height = base_image.size\n",
    "    \n",
    "    # Create an alpha mask based on the provided opacity\n",
    "    alpha_mask = Image.new(\"L\", base_image.size, int(opacity * 255))\n",
    "    base_image.putalpha(alpha_mask)\n",
    "    \n",
    "    # Initialize the composite with the base image\n",
    "    composite = base_image.copy()\n",
    "    \n",
    "    # Loop over the remaining images and composite them one by one\n",
    "    for image_file in image_files[1:]:\n",
    "        image_path = os.path.join(download_dir, image_file)\n",
    "        overlay = Image.open(image_path).convert(\"RGBA\")\n",
    "        \n",
    "        # Resize overlay to match the base image dimensions if needed\n",
    "        if overlay.size != (width, height):\n",
    "            overlay = overlay.resize((width, height))\n",
    "        \n",
    "        # Apply the same opacity mask to the overlay\n",
    "        overlay.putalpha(Image.new(\"L\", overlay.size, int(opacity * 255)))\n",
    "        \n",
    "        # Composite the overlay image onto the current composite image\n",
    "        composite = Image.alpha_composite(composite, overlay)\n",
    "    \n",
    "    # Save the composite image and display it\n",
    "    composite.save(composite_filename)\n",
    "    display(composite)"
   ]
  },
  {
   "cell_type": "code",
   "execution_count": null,
   "id": "6dfa841e-cf83-455e-aff0-25808e4d9682",
   "metadata": {},
   "outputs": [],
   "source": [
    "create_composite_image_from_a_local_folder()"
   ]
  }
 ],
 "metadata": {
  "kernelspec": {
   "display_name": "Python 3 (ipykernel)",
   "language": "python",
   "name": "python3"
  },
  "language_info": {
   "codemirror_mode": {
    "name": "ipython",
    "version": 3
   },
   "file_extension": ".py",
   "mimetype": "text/x-python",
   "name": "python",
   "nbconvert_exporter": "python",
   "pygments_lexer": "ipython3",
   "version": "3.12.6"
  }
 },
 "nbformat": 4,
 "nbformat_minor": 5
}

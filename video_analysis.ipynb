{
 "cells": [
  {
   "cell_type": "markdown",
   "id": "90629482-9191-464b-8870-00888f1600d4",
   "metadata": {},
   "source": [
    "# This notebook will showcase extracting keyframes from videos\n",
    "\n",
    "From [Wikipedia](https://en.wikipedia.org/wiki/Key_frame): In animation and filmmaking, a key frame (or keyframe) is a drawing or shot that defines the starting and ending points of a smooth transition. \n",
    "\n",
    "For running locally you will need the CLI tools.\n",
    "```\n",
    "sudo apt-get install ffmpeg imagemagick -y\n",
    "```\n",
    "\n",
    "We will use [ffmpeg](https://ffmpeg.org/ffmpeg.html) to extract keyframes from the video and imagemagick to combine the results. \n",
    "\n",
    "\n",
    "### Will keep trying to make something better, just adding extra steps to make the working clearer maybe??? "
   ]
  },
  {
   "cell_type": "code",
   "execution_count": null,
   "id": "248fc3f7-6c74-48ee-87c1-50be8ce64a58",
   "metadata": {},
   "outputs": [],
   "source": [
    "# First import the libraries we will use\n",
    "import os # for handling files \n",
    "from subprocess import run # running shell scripts \n",
    "from IPython.display import Image, display # displaying results\n",
    "import glob\n",
    "import shutil"
   ]
  },
  {
   "cell_type": "markdown",
   "id": "267348d2-b2ab-4726-89fd-4d2e6944d27e",
   "metadata": {},
   "source": [
    "## Setup\n",
    "Here you could make changes to suit your needs"
   ]
  },
  {
   "cell_type": "code",
   "execution_count": null,
   "id": "061edf59-41dc-4200-a408-3c57079722ad",
   "metadata": {},
   "outputs": [],
   "source": [
    "# Parameters (set these according to your environment and preferences)\n",
    "input_videos = \"videos\"\n",
    "output_dir = \"keyframes_output/\"\n",
    "cutoff = 0.4          # Initial scene detection sensitivity\n",
    "step = 0.8            # Sensitivity adjustment factor\n",
    "iterations = 24       # Max attempts for adjustment\n",
    "min_frames = 2        # Minimum keyframes per video we want\n",
    "max_frames = 12       # Maximum keyframes per video we want\n",
    "\n",
    "\n",
    "if os.path.exists(output_dir):\n",
    "    shutil.rmtree(output_dir)\n",
    "os.makedirs(output_dir, exist_ok=True)"
   ]
  },
  {
   "cell_type": "markdown",
   "id": "883d5e20-a8bc-4693-8778-ced778ad2817",
   "metadata": {},
   "source": [
    "## First let's try out ffmpeg on just one video "
   ]
  },
  {
   "cell_type": "code",
   "execution_count": null,
   "id": "77a3eea6-5a51-4e9d-8534-859b2628a9d5",
   "metadata": {
    "scrolled": true
   },
   "outputs": [],
   "source": [
    "# Define the video file to process (ensure the file exists in the \"videos\" folder)\n",
    "video_file = os.path.join(input_videos, \"1.mov\")  # Change to your video filename\n",
    "\n",
    "# Create an output directory specific for this video’s keyframes\n",
    "video_output_dir = os.path.join(output_dir, \"video1\")\n",
    "os.makedirs(video_output_dir, exist_ok=True)\n",
    "\n",
    "cutoff_here =0.02 # here I select a cutoff score that I know will work for this video in the full script this is found iteratively\n",
    "# Build the ffmpeg command:\n",
    "# -i : specifies the input file\n",
    "# -vf : applies the video filter, here using the scene detection filter with the cutoff value\n",
    "# -vsync vfr : forces variable frame rate output (only the detected frames are saved)\n",
    "# The output images are named frame_001.jpg, frame_002.jpg, etc.\n",
    "ffmpeg_command = f'''ffmpeg -i \"{video_file}\" -vf \"select=gt(scene\\\\,{cutoff_here})\" -vsync vfr \"{video_output_dir}/frame_%03d.jpg\"'''\n",
    "print(\"Running:\", ffmpeg_command)\n",
    "\n",
    "# Run the ffmpeg command\n",
    "result = run(ffmpeg_command, shell=True)\n",
    "\n",
    "# List the extracted keyframes\n",
    "extracted_frames = sorted(glob.glob(os.path.join(video_output_dir, \"*.jpg\")))\n",
    "display(Image(extracted_frames[0]))"
   ]
  },
  {
   "cell_type": "markdown",
   "id": "09b52c76-a580-44c1-92a2-8938fb7a9a8d",
   "metadata": {},
   "source": [
    "So with shutil we are able to pull frames out of the video, but we don't know how much \"action\" there is in the video. That is we need a way to set the cutoff score in a sensible way for each video. "
   ]
  },
  {
   "cell_type": "markdown",
   "id": "375f1604-417a-4bd1-bc19-f0bab372dc11",
   "metadata": {},
   "source": [
    "## Creating the functions to process the videos"
   ]
  },
  {
   "cell_type": "code",
   "execution_count": null,
   "id": "152027d3-d2b6-4901-b3f0-b60a16d5cf16",
   "metadata": {},
   "outputs": [],
   "source": [
    "# This function calls ffmpeg and extracts the keyframes\n",
    "def keyframes(input_file, output_dir, cutoff, iterations):\n",
    "    file_name = os.path.splitext(os.path.basename(input_file))[0]  # create a file_name based on the video being processed\n",
    "    # some error handling \n",
    "    if iterations == 0:\n",
    "        print(\"ERROR: Stopped trying; increase iterations parameter to try more!\")\n",
    "        return None\n",
    "    # Build the output pattern using os.path.join\n",
    "    output_pattern = os.path.join(output_dir, f\"{file_name}-%02d.jpg\")\n",
    "    # run ffmpeg and save the result\n",
    "    command = f'''ffmpeg -i \"{input_file}\" -vf \"select='gt(scene,{cutoff})'\" -vsync 0 \"{output_pattern}\" '''\n",
    "    print(f\"Running: {command}\")\n",
    "    result = run(command, shell=True, capture_output=True)\n",
    "    # If we see an error print it and try again, else check how many frames we have\n",
    "    if result.returncode != 0:\n",
    "        print(f\"ffmpeg error: {result.stderr.decode().strip()}\")\n",
    "        return keyframes(input_file, output_dir, cutoff * step, iterations - 1) \n",
    "    else:\n",
    "        return adaptive_keyframes(input_file, output_dir, file_name, cutoff, iterations)\n",
    "\n",
    "# This code adapts the cutoff value to find the optimal one for the video\n",
    "# This way we find the optimal diversity of frames within each video\n",
    "def adaptive_keyframes(input_file, output_dir, file_name, cutoff, iterations):\n",
    "    # Check how many frames we have found\n",
    "    frames = [f for f in os.listdir(output_dir) if f.startswith(file_name) and f.endswith(\".jpg\")]\n",
    "    n = len(frames)\n",
    "    print(f\"Found {n} keyframes for {file_name}.\")\n",
    "    \n",
    "    # If we have too few frames we decrease the cutoff making ffmpeg more sensitive\n",
    "    # If we have too many frames we make ffmpeg less sensitive \n",
    "    # Once we found a number of frames with ffmpeg between the maximum and minimum number we defined we combine them\n",
    "    if n < min_frames:\n",
    "        print(\"Too few keyframes, let's try again!\")\n",
    "        return keyframes(input_file, output_dir, cutoff * step, iterations - 1)\n",
    "    elif n > max_frames:\n",
    "        print(\"Too many keyframes, let's try again!\")\n",
    "        return keyframes(input_file, output_dir, cutoff * (1 + step/2), iterations - 1)\n",
    "    else:\n",
    "        print(f\"Solution found! Check {output_dir} directory.\")\n",
    "        return combine_keyframes(input_file, output_dir, file_name)\n",
    "\n",
    "# This function combines our resulting frames into a single image using magick \n",
    "def combine_keyframes(input_file, output_dir, file_name):\n",
    "    # first we create a unique name for our result\n",
    "    combined_img = os.path.join(output_dir, f\"{file_name}-keyframes.jpg\")\n",
    "    # then we can call magic to concat the images \n",
    "    command = f'''convert +append \"{output_dir}/{file_name}-*.jpg\" \"{combined_img}\" '''\n",
    "    print(f\"Combining keyframes: {command}\")\n",
    "    result = run(command, shell=True)\n",
    "    # tabulate the result and return the image\n",
    "    if result.returncode == 0:\n",
    "        print(f\"Keyframes have been saved in a single file under: {combined_img}\")\n",
    "        display(Image(combined_img))\n",
    "        return combined_img\n",
    "    else:\n",
    "        print(\"Error combining keyframes. Make sure ImageMagick is installed.\")\n",
    "        return None"
   ]
  },
  {
   "cell_type": "markdown",
   "id": "02ce20ef-db2e-4147-b2b9-41963339b70b",
   "metadata": {},
   "source": [
    "## Now let's process our videos by looping through the folder with our videos"
   ]
  },
  {
   "cell_type": "code",
   "execution_count": null,
   "id": "a41c2410-a4d2-40b7-905a-9ae4ddda8044",
   "metadata": {
    "scrolled": true
   },
   "outputs": [],
   "source": [
    "for video_file in os.listdir(input_videos): # loop throug each file in the folder\n",
    "    # create a path variable to each video\n",
    "    input_video_path = os.path.join(input_videos, video_file)\n",
    "    # Create a subdirectory for the output for each video to avoid mixing outputs\n",
    "    video_output_dir = os.path.join(output_dir, os.path.splitext(video_file)[0])\n",
    "    os.makedirs(video_output_dir, exist_ok= True)\n",
    "    # process each video using our functions\n",
    "    print(f\"\\nProcessing video: {input_video_path}\")\n",
    "    keyframes(input_file=input_video_path, output_dir=video_output_dir, cutoff=cutoff, iterations=iterations)\n"
   ]
  },
  {
   "cell_type": "markdown",
   "id": "0b1f80c8-0d3c-4350-a462-473cf8e3e3d2",
   "metadata": {},
   "source": [
    "## At last let's create a meta image from the extracted keyframes"
   ]
  },
  {
   "cell_type": "code",
   "execution_count": null,
   "id": "7f4550b4-5d05-4adb-bd7b-0bf18c0f287b",
   "metadata": {},
   "outputs": [],
   "source": [
    "\n",
    "combined_image_paths = glob.glob(os.path.join(\"keyframes_output\", \"*\", \"*-keyframes.jpg\"))\n",
    "# Join them into a single space-separated string\n",
    "combined_paths = \" \".join(combined_image_paths)\n",
    "\n",
    "# Set the final output file for all movies combined\n",
    "final_combined_image = \"combined_all_movies.jpg\"\n",
    "\n",
    "combine_command = f\"convert -append {combined_paths} {final_combined_image}\" # note here we use -append to append vertically\n",
    "print(f\"Running: {combine_command}\")\n",
    "result = run(combine_command, shell=True)\n",
    "\n",
    "display(Image(final_combined_image))\n"
   ]
  },
  {
   "cell_type": "markdown",
   "id": "454b13b3-8e45-4cff-9576-0cd4c30dea0f",
   "metadata": {},
   "source": [
    "Now we can interpret the results and have an overview of many videos most different frames at once. "
   ]
  }
 ],
 "metadata": {
  "kernelspec": {
   "display_name": "Python 3 (ipykernel)",
   "language": "python",
   "name": "python3"
  },
  "language_info": {
   "codemirror_mode": {
    "name": "ipython",
    "version": 3
   },
   "file_extension": ".py",
   "mimetype": "text/x-python",
   "name": "python",
   "nbconvert_exporter": "python",
   "pygments_lexer": "ipython3",
   "version": "3.12.6"
  }
 },
 "nbformat": 4,
 "nbformat_minor": 5
}
